{
 "cells": [
  {
   "cell_type": "markdown",
   "metadata": {},
   "source": [
    "## Discussion"
   ]
  },
  {
   "cell_type": "markdown",
   "metadata": {},
   "source": [
    "*Accuracy* is a qualitative term $(trueness + precision)$.\n",
    "As such it expresses the closeness of agreement between a measurement result and the value of the measurand.\n",
    "The measurement uncertainty is a quantitative estimate of the accuracy of a result. This measurement uncertainty is composed of some bias together with standard deviation, repeatability and reproducability uncertainties. If the bias is close to zero it is insignificant in which case the uncertainty is only composed of random effects.\n",
    "\n",
    "The result of a measurement is said to be more accurate when it offers a smaller measurement error. Because of that definition, the term *accuracy* should only be used for general comparison. Such general comparison could be that a method or technology is \"more accurate than\". This definition also grades *accurate* as only an adjective used to indicate the quality of an unbiased and precise measurement result\n",
    "\n",
    "According to International Vocabulary of Metrology (https://www.bipm.org/en/publications/guides/vim.html)"
   ]
  },
  {
   "cell_type": "markdown",
   "metadata": {},
   "source": [
    "![Performance Characteristics relations](https://www.researchgate.net/profile/Vinicius_Rofatto/post/What_are_the_2D_and_3D_position_accuracy_measures_of_GNSS_receivers/attachment/5a0723d74cde2626891433aa/AS%3A559545148559360%401510417367604/download/6-skeem7-1.png)"
   ]
  },
  {
   "cell_type": "markdown",
   "metadata": {},
   "source": [
    "To increase Accuracy, one has to improve trueness and precision. Trueness is improved, by decreasing systematic errors such as\n",
    "Improving precision is done by decreasing random errors"
   ]
  },
  {
   "cell_type": "markdown",
   "metadata": {},
   "source": [
    "![](https://www.researchgate.net/profile/Vinicius_Rofatto/post/What_are_the_2D_and_3D_position_accuracy_measures_of_GNSS_receivers/attachment/5a0723d7b53d2fed8ad4f2e1/AS%3A559545148559361%401510417367648/download/images.jpeg)"
   ]
  }
 ],
 "metadata": {
  "kernelspec": {
   "display_name": "Python 3",
   "language": "python",
   "name": "python3"
  },
  "language_info": {
   "codemirror_mode": {
    "name": "ipython",
    "version": 3
   },
   "file_extension": ".py",
   "mimetype": "text/x-python",
   "name": "python",
   "nbconvert_exporter": "python",
   "pygments_lexer": "ipython3",
   "version": "3.7.6"
  }
 },
 "nbformat": 4,
 "nbformat_minor": 4
}
