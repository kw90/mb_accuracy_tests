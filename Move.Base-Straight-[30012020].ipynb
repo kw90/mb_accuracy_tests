{
 "cells": [
  {
   "cell_type": "code",
   "execution_count": 1,
   "metadata": {
    "scrolled": true
   },
   "outputs": [],
   "source": [
    "import json\n",
    "\n",
    "data_json = '[{\"name\":\"WLG Workbench 0° Inaccurate-3\",\"start_pose\":{\"position\":{\"y\":0.8247074283744609,\"x\":6.392242417120765,\"z\":0},\"orientation\":{\"y\":0,\"x\":0,\"z\":-0.007924493230899806,\"w\":0.999968600710559}},\"test_measurement\":{\"position\":{\"x\":1.36975265,\"y\":3.13536358,\"z\":0.473995924},\"rotation\":{\"x\":-0.004022590803019084,\"y\":0.4262533497607047,\"z\":-92.78004659102427},\"time\":1580383335925}},{\"name\":\"WLG Workbench 0° Inaccurate-4\",\"start_pose\":{\"position\":{\"y\":0.8538464322902084,\"x\":6.313770224826199,\"z\":0},\"orientation\":{\"y\":0,\"x\":0,\"z\":-0.01596740396507365,\"w\":0.9998725128788251}},\"test_measurement\":{\"position\":{\"x\":1.360256,\"y\":3.1443634,\"z\":0.473861784},\"rotation\":{\"x\":-0.004105067088149973,\"y\":0.44159574222512515,\"z\":-91.8082814268607},\"time\":1580383357526}},{\"name\":\"WLG Workbench 0° Inaccurate-5\",\"start_pose\":{\"position\":{\"y\":0.9496670279008974,\"x\":3.16297177959429,\"z\":0},\"orientation\":{\"y\":0,\"x\":0,\"z\":-0.0017669960501562887,\"w\":0.9999984388612608}},\"test_measurement\":{\"position\":{\"x\":1.3666054,\"y\":3.13330936,\"z\":0.473926842},\"rotation\":{\"x\":-0.031609458473317795,\"y\":0.4641937432592297,\"z\":-89.85563962618077},\"time\":1580383376827}},{\"name\":\"WLG Workbench 0° Inaccurate-6\",\"start_pose\":{\"position\":{\"y\":0.8508353208590376,\"x\":6.3177513006831525,\"z\":0},\"orientation\":{\"y\":0,\"x\":0,\"z\":0.007542511171919868,\"w\":0.9999715548580477}},\"test_measurement\":{\"position\":{\"x\":1.36778629,\"y\":3.1328876,\"z\":0.473918885},\"rotation\":{\"x\":0.018548189109122905,\"y\":0.46158637190443025,\"z\":-90.13465968396497},\"time\":1580383396727}},{\"name\":\"WLG Workbench 0° Inaccurate-7\",\"start_pose\":{\"position\":{\"y\":0.8527887023798595,\"x\":6.316603494970508,\"z\":0},\"orientation\":{\"y\":0,\"x\":0,\"z\":0.00639257494350401,\"w\":0.9999795672840479}},\"test_measurement\":{\"position\":{\"x\":1.38097942,\"y\":3.13463354,\"z\":0.473806947},\"rotation\":{\"x\":-0.011354785119932886,\"y\":0.4693059264095727,\"z\":-88.98074020482633},\"time\":1580383418329}},{\"name\":\"WLG Workbench 0° Inaccurate-8\",\"start_pose\":{\"position\":{\"y\":0.8514718653898372,\"x\":6.315640911345062,\"z\":0},\"orientation\":{\"y\":0,\"x\":0,\"z\":0.015950942179680464,\"w\":0.9998727756287699}},\"test_measurement\":{\"position\":{\"x\":1.36236358,\"y\":3.13006949,\"z\":0.473407418},\"rotation\":{\"x\":-0.019458878775089065,\"y\":0.5558984777376126,\"z\":-87.4051931482228},\"time\":1580383442630}},{\"name\":\"WLG Workbench 0° Inaccurate-9\",\"start_pose\":{\"position\":{\"y\":0.8486610242579629,\"x\":6.315944109022698,\"z\":0},\"orientation\":{\"y\":0,\"x\":0,\"z\":0.032688591650113626,\"w\":0.9994655851883706}},\"test_measurement\":{\"position\":{\"x\":1.37096047,\"y\":3.11386442,\"z\":0.474138081},\"rotation\":{\"x\":-0.03305749526294686,\"y\":0.5193544577179585,\"z\":-88.78002826587634},\"time\":1580383464530}},{\"name\":\"WLG Workbench 0° Inaccurate-10\",\"start_pose\":{\"position\":{\"y\":0.8508628010359349,\"x\":6.316653910278477,\"z\":0},\"orientation\":{\"y\":0,\"x\":0,\"z\":0.01836865425614095,\"w\":0.9998312820375338}},\"test_measurement\":{\"position\":{\"x\":1.43206,\"y\":3.11801887,\"z\":0.474239},\"rotation\":{\"x\":-0.022519238747711168,\"y\":0.4689012910621023,\"z\":-91.80019448288341},\"time\":1580383479831}},{\"name\":\"WLG Workbench 0° Inaccurate-11\",\"start_pose\":{\"position\":{\"y\":0.8542729015515369,\"x\":6.309721022396405,\"z\":0},\"orientation\":{\"y\":0,\"x\":0,\"z\":-0.00635268077573381,\"w\":0.9999798215198953}},\"test_measurement\":{\"position\":{\"x\":1.37485826,\"y\":3.1258328,\"z\":0.474340379},\"rotation\":{\"x\":-0.04134393212382724,\"y\":0.4220030511062527,\"z\":-86.47319334540707},\"time\":1580383501032}},{\"name\":\"WLG Workbench 0° Inaccurate-12\",\"start_pose\":{\"position\":{\"y\":0.8484787606457522,\"x\":6.311296583550676,\"z\":0},\"orientation\":{\"y\":0,\"x\":0,\"z\":0.03360314187134833,\"w\":0.9994352549597068}},\"test_measurement\":{\"position\":{\"x\":1.37916231,\"y\":3.20925617,\"z\":0.474123746},\"rotation\":{\"x\":-0.013445808514208613,\"y\":0.4478871468635003,\"z\":-91.8733321485159},\"time\":1580383521534}},{\"name\":\"WLG Workbench 0° Inaccurate-13\",\"start_pose\":{\"position\":{\"y\":0.8552607021097987,\"x\":6.312131335855408,\"z\":0},\"orientation\":{\"y\":0,\"x\":0,\"z\":0.003554282479875769,\"w\":0.9999936835180777}},\"test_measurement\":{\"position\":{\"x\":1.360852,\"y\":3.12078619,\"z\":0.474116683},\"rotation\":{\"x\":0.032635504298073784,\"y\":0.4344687599913342,\"z\":-92.69066673554548},\"time\":1580383539835}},{\"name\":\"WLG Workbench 0° Inaccurate-14\",\"start_pose\":{\"position\":{\"y\":0.9849598093795602,\"x\":3.3913333296867476,\"z\":0},\"orientation\":{\"y\":0,\"x\":0,\"z\":-0.006174876331135726,\"w\":0.9999809352694156}},\"test_measurement\":{\"position\":{\"x\":1.33484316,\"y\":3.14014721,\"z\":0.4737498},\"rotation\":{\"x\":-0.022790800465705332,\"y\":0.4710320966397347,\"z\":-89.20559003230315},\"time\":1580383558336}},{\"name\":\"WLG Workbench 0° Inaccurate-15\",\"start_pose\":{\"position\":{\"y\":0.8503146864875357,\"x\":6.31404520772658,\"z\":0},\"orientation\":{\"y\":0,\"x\":0,\"z\":0.01488882287349849,\"w\":0.9998891553334508}},\"test_measurement\":{\"position\":{\"x\":1.37629235,\"y\":3.10558033,\"z\":0.473629653},\"rotation\":{\"x\":-0.015257113483867836,\"y\":0.43885923760633017,\"z\":-91.99702004419566},\"time\":1580383580534}},{\"name\":\"WLG Workbench 0° Inaccurate-16\",\"start_pose\":{\"position\":{\"y\":0.8480152933769434,\"x\":6.393283403750227,\"z\":0},\"orientation\":{\"y\":0,\"x\":0,\"z\":-0.008645222518521236,\"w\":0.9999626293655204}},\"test_measurement\":{\"position\":{\"x\":1.367182,\"y\":3.11285329,\"z\":0.4743639},\"rotation\":{\"x\":-0.06505297615123608,\"y\":0.34676662308828465,\"z\":-86.90520964059954},\"time\":1580383602636}},{\"name\":\"WLG Workbench 0° Inaccurate-17\",\"start_pose\":{\"position\":{\"y\":0.8465607927127001,\"x\":6.314621613025445,\"z\":0},\"orientation\":{\"y\":0,\"x\":0,\"z\":0.03332517119050028,\"w\":0.9994445622270021}},\"test_measurement\":{\"position\":{\"x\":1.37024724,\"y\":3.10527587,\"z\":0.473571122},\"rotation\":{\"x\":-0.0005970517169328832,\"y\":0.4293602587398407,\"z\":-92.50374494852974},\"time\":1580383634047}},{\"name\":\"WLG Workbench 0° Inaccurate-18\",\"start_pose\":{\"position\":{\"y\":1.0209713346719749,\"x\":1.7607140073990342,\"z\":0},\"orientation\":{\"y\":0,\"x\":0,\"z\":-0.00570377082463927,\"w\":0.9999837333668883}},\"test_measurement\":{\"position\":{\"x\":1.359728,\"y\":3.08981562,\"z\":0.473506123},\"rotation\":{\"x\":-0.024618806548556024,\"y\":0.48423175737590174,\"z\":-92.15709235758409},\"time\":1580383660040}},{\"name\":\"WLG Workbench 0° Inaccurate-19\",\"start_pose\":{\"position\":{\"y\":0.9677282718517759,\"x\":3.478145607472838,\"z\":0},\"orientation\":{\"y\":0,\"x\":0,\"z\":-0.00779878943698198,\"w\":0.9999695889792437}},\"test_measurement\":{\"position\":{\"x\":1.365389,\"y\":3.12825322,\"z\":0.4734673},\"rotation\":{\"x\":-0.0061099177075871385,\"y\":0.504435670384211,\"z\":-90.69265881839833},\"time\":1580383680142}},{\"name\":\"WLG Workbench 0° Inaccurate-20\",\"start_pose\":{\"position\":{\"y\":0.8523227125268757,\"x\":6.31461725023595,\"z\":0},\"orientation\":{\"y\":0,\"x\":0,\"z\":-0.0012498246706866556,\"w\":0.9999992189688413}},\"test_measurement\":{\"position\":{\"x\":1.38662457,\"y\":3.10673785,\"z\":0.473665774},\"rotation\":{\"x\":0.019649735538139312,\"y\":0.4976507845783025,\"z\":-91.15553390826092},\"time\":1580383695143}},{\"name\":\"WLG Workbench 0° Inaccurate-21\",\"start_pose\":{\"position\":{\"y\":0.8403066979062128,\"x\":6.312872366298908,\"z\":0},\"orientation\":{\"y\":0,\"x\":0,\"z\":-0.002108612111815983,\"w\":0.9999977768750098}},\"test_measurement\":{\"position\":{\"x\":1.44090426,\"y\":3.124236,\"z\":0.473937362},\"rotation\":{\"x\":-0.03820080446579166,\"y\":0.43565110308926047,\"z\":-91.43015532421963},\"time\":1580383711541}},{\"name\":\"WLG Workbench 0° Inaccurate-22\",\"start_pose\":{\"position\":{\"y\":0.8512823405012138,\"x\":6.312599930518615,\"z\":0},\"orientation\":{\"y\":0,\"x\":0,\"z\":-0.0037778192155629724,\"w\":0.9999928640155261}},\"test_measurement\":{\"position\":{\"x\":1.42948925,\"y\":3.11595488,\"z\":0.47396028},\"rotation\":{\"x\":-0.015963767923646396,\"y\":0.49923293386651246,\"z\":-91.48175057320991},\"time\":1580383725842}},{\"name\":\"WLG Workbench 0° Inaccurate-23\",\"start_pose\":{\"position\":{\"y\":0.9016793912586287,\"x\":3.6983140534239793,\"z\":0},\"orientation\":{\"y\":0,\"x\":0,\"z\":-0.002005306690993191,\"w\":0.9999979893705162}},\"test_measurement\":{\"position\":{\"x\":1.36525345,\"y\":3.1290834,\"z\":0.4739362},\"rotation\":{\"x\":-0.000694691707791537,\"y\":0.47927325348188404,\"z\":-91.24485229203718},\"time\":1580383744948}},{\"name\":\"WLG Workbench 0° Inaccurate-24\",\"start_pose\":{\"position\":{\"y\":0.8519307064091839,\"x\":6.314718684547463,\"z\":0},\"orientation\":{\"y\":0,\"x\":0,\"z\":-0.004367525130583333,\"w\":0.9999904623166331}},\"test_measurement\":{\"position\":{\"x\":1.45185375,\"y\":3.132382,\"z\":0.47423926},\"rotation\":{\"x\":-0.07307980912774976,\"y\":0.4980446943943418,\"z\":-91.19413813744984},\"time\":1580383761343}},{\"name\":\"WLG Workbench 0° Inaccurate-25\",\"start_pose\":{\"position\":{\"y\":0.8514616635492649,\"x\":6.313504347241043,\"z\":0},\"orientation\":{\"y\":0,\"x\":0,\"z\":-0.001535271987271075,\"w\":0.9999988214692681}},\"test_measurement\":{\"position\":{\"x\":1.37911046,\"y\":3.137558,\"z\":0.473701775},\"rotation\":{\"x\":-0.04661750183868491,\"y\":0.5552119903651733,\"z\":-86.51881217887357},\"time\":1580383796745}},{\"name\":\"WLG Workbench 0° Inaccurate-26\",\"start_pose\":{\"position\":{\"y\":0.8462519650311622,\"x\":6.343530314032096,\"z\":0},\"orientation\":{\"y\":0,\"x\":0,\"z\":0.04154123803178509,\"w\":0.9991367902058189}},\"test_measurement\":{\"position\":{\"x\":1.375457,\"y\":3.1418047,\"z\":0.473892152},\"rotation\":{\"x\":0.04528274346963624,\"y\":0.4179867931525794,\"z\":-92.08954861688183},\"time\":1580383835247}},{\"name\":\"WLG Workbench 0° Inaccurate-27\",\"start_pose\":{\"position\":{\"y\":0.853360647910812,\"x\":6.31301995300339,\"z\":0},\"orientation\":{\"y\":0,\"x\":0,\"z\":-0.003498247244345554,\"w\":0.9999938811143884}},\"test_measurement\":{\"position\":{\"x\":1.38751054,\"y\":3.13024378,\"z\":0.473906815},\"rotation\":{\"x\":-0.022290128923244883,\"y\":0.5182570917782607,\"z\":-88.37924642575832},\"time\":1580383856049}},{\"name\":\"WLG Workbench 0° Inaccurate-28\",\"start_pose\":{\"position\":{\"y\":0.8464798105119398,\"x\":6.311159570610282,\"z\":0},\"orientation\":{\"y\":0,\"x\":0,\"z\":0.023864579641636546,\"w\":0.9997152003638476}},\"test_measurement\":{\"position\":{\"x\":1.37838793,\"y\":3.1240623,\"z\":0.473825634},\"rotation\":{\"x\":-0.04682860070777392,\"y\":0.49476406915862003,\"z\":-87.09872939035351},\"time\":1580383876049}},{\"name\":\"WLG Workbench 0° Inaccurate-29\",\"start_pose\":{\"position\":{\"y\":0.8472843287508343,\"x\":6.306968311217024,\"z\":0},\"orientation\":{\"y\":0,\"x\":0,\"z\":0.03444167682604783,\"w\":0.9994067094518678}},\"test_measurement\":{\"position\":{\"x\":1.39437473,\"y\":3.12242341,\"z\":0.473794},\"rotation\":{\"x\":-0.02883882625404584,\"y\":0.46224084276513494,\"z\":-88.2073783756733},\"time\":1580383896449}},{\"name\":\"WLG Workbench 0° Inaccurate-30\",\"start_pose\":{\"position\":{\"y\":0.8490905080639077,\"x\":6.309731297965656,\"z\":0},\"orientation\":{\"y\":0,\"x\":0,\"z\":0.023460497450195992,\"w\":0.9997247646524464}},\"test_measurement\":{\"position\":{\"x\":1.41746783,\"y\":3.125411,\"z\":0.4739359},\"rotation\":{\"x\":0.0018701323917996039,\"y\":0.41492099871059573,\"z\":-91.39872279365923},\"time\":1580383913251}},{\"name\":\"WLG Workbench 0° Inaccurate-31\",\"start_pose\":{\"position\":{\"y\":0.8512385928824582,\"x\":6.325236517122464,\"z\":0},\"orientation\":{\"y\":0,\"x\":0,\"z\":-0.002441796796671864,\"w\":0.9999970188097581}},\"test_measurement\":{\"position\":{\"x\":1.4086467,\"y\":3.12847853,\"z\":0.4739289},\"rotation\":{\"x\":-0.046817008062483415,\"y\":0.4308341922183883,\"z\":-91.28145527579927},\"time\":1580383933551}},{\"name\":\"WLG Workbench 0° Inaccurate-32\",\"start_pose\":{\"position\":{\"y\":0.8506282341858986,\"x\":6.316853020430239,\"z\":0},\"orientation\":{\"y\":0,\"x\":0,\"z\":-0.0012115260934837393,\"w\":0.9999992661019931}},\"test_measurement\":{\"position\":{\"x\":1.360076,\"y\":3.14696383,\"z\":0.473920941},\"rotation\":{\"x\":-0.030551829693757103,\"y\":0.4012049650010052,\"z\":-91.16162643700058},\"time\":1580383953951}},{\"name\":\"WLG Workbench 0° Inaccurate-33\",\"start_pose\":{\"position\":{\"y\":0.9001012950099532,\"x\":0.22667507336520343,\"z\":0},\"orientation\":{\"y\":0,\"x\":0,\"z\":0.011978809227105007,\"w\":0.999928251490826}},\"test_measurement\":{\"position\":{\"x\":1.37263072,\"y\":3.08912182,\"z\":0.473619759},\"rotation\":{\"x\":-0.03633199067069279,\"y\":0.45989435262011824,\"z\":-91.18769726906251},\"time\":1580383979753}},{\"name\":\"WLG Workbench 0° Inaccurate-34\",\"start_pose\":{\"position\":{\"y\":0.8517263202717831,\"x\":6.39644463419405,\"z\":0},\"orientation\":{\"y\":0,\"x\":0,\"z\":-0.0015746828396025207,\"w\":0.9999987601862087}},\"test_measurement\":{\"position\":{\"x\":1.40538716,\"y\":3.17920446,\"z\":0.474104553},\"rotation\":{\"x\":0.011744576145139712,\"y\":0.49290839213849225,\"z\":-90.99042091526503},\"time\":1580384022960}},{\"name\":\"WLG Workbench 0° Inaccurate-35\",\"start_pose\":{\"position\":{\"y\":0.8504257749959159,\"x\":6.3073044134960945,\"z\":0},\"orientation\":{\"y\":0,\"x\":0,\"z\":0.0030853452220322977,\"w\":0.9999952403111032}},\"test_measurement\":{\"position\":{\"x\":1.37598515,\"y\":3.12197471,\"z\":0.47402364},\"rotation\":{\"x\":-0.005490366522519422,\"y\":0.4661314359102506,\"z\":-90.92413392937006},\"time\":1580384042656}},{\"name\":\"WLG Workbench 0° Inaccurate-36\",\"start_pose\":{\"position\":{\"y\":0.851887365582984,\"x\":6.310900462191389,\"z\":0},\"orientation\":{\"y\":0,\"x\":0,\"z\":0.003337365608689857,\"w\":0.9999944309798899}},\"test_measurement\":{\"position\":{\"x\":1.36575139,\"y\":3.14875484,\"z\":0.473840415},\"rotation\":{\"x\":-0.03722068232505475,\"y\":0.46421828925155945,\"z\":-88.37490242544621},\"time\":1580384061158}},{\"name\":\"WLG Workbench 0° Inaccurate-37\",\"start_pose\":{\"position\":{\"y\":0.8348037815629348,\"x\":6.317474732871234,\"z\":0},\"orientation\":{\"y\":0,\"x\":0,\"z\":0.020576946272507224,\"w\":0.9997882722267242}},\"test_measurement\":{\"position\":{\"x\":1.378447,\"y\":3.11999154,\"z\":0.4738281},\"rotation\":{\"x\":-0.024976444324842882,\"y\":0.41148962906545766,\"z\":-89.92887291446165},\"time\":1580384081563}},{\"name\":\"WLG Workbench 0° Inaccurate-38\",\"start_pose\":{\"position\":{\"y\":0.8507030205795818,\"x\":6.326833995692594,\"z\":0},\"orientation\":{\"y\":0,\"x\":0,\"z\":0.011357081320336249,\"w\":0.9999355062722212}},\"test_measurement\":{\"position\":{\"x\":1.33736622,\"y\":3.11030269,\"z\":0.474173069},\"rotation\":{\"x\":-0.027505023377769246,\"y\":0.34845648125805456,\"z\":-86.77897408435936},\"time\":1580384102658}},{\"name\":\"WLG Workbench 0° Inaccurate-39\",\"start_pose\":{\"position\":{\"y\":0.838689565926336,\"x\":6.367176687632483,\"z\":0},\"orientation\":{\"y\":0,\"x\":0,\"z\":0.04056213014636829,\"w\":0.9991770181494314}},\"test_measurement\":{\"position\":{\"x\":1.37839,\"y\":3.11998248,\"z\":0.473897845},\"rotation\":{\"x\":0.018456099949720084,\"y\":0.42285991968197195,\"z\":-89.56865556782435},\"time\":1580384130959}},{\"name\":\"WLG Workbench 0° Inaccurate-40\",\"start_pose\":{\"position\":{\"y\":0.8487123178372937,\"x\":6.324245752064749,\"z\":0},\"orientation\":{\"y\":0,\"x\":0,\"z\":0.01596887118891688,\"w\":0.9998724894470054}},\"test_measurement\":{\"position\":{\"x\":1.2697103,\"y\":3.12147045,\"z\":0.4743588},\"rotation\":{\"x\":0.15292037161568822,\"y\":0.5368372873939581,\"z\":-86.13302943417291},\"time\":1580384153661}},{\"name\":\"WLG Workbench 0° Inaccurate-41\",\"start_pose\":{\"position\":{\"y\":0.8146932171787413,\"x\":6.365155816960455,\"z\":0},\"orientation\":{\"y\":0,\"x\":0,\"z\":0.04393894022797184,\"w\":0.9990342183987707}},\"test_measurement\":{\"position\":{\"x\":1.36305869,\"y\":3.083142,\"z\":0.473903924},\"rotation\":{\"x\":-0.030667392625851886,\"y\":0.4435369833728633,\"z\":-93.59392510233381},\"time\":1580384181964}},{\"name\":\"WLG Workbench 0° Inaccurate-42\",\"start_pose\":{\"position\":{\"y\":0.8443939432154295,\"x\":6.392734356730613,\"z\":0},\"orientation\":{\"y\":0,\"x\":0,\"z\":-0.024272596750230073,\"w\":0.9997053771221803}},\"test_measurement\":{\"position\":{\"x\":1.36876667,\"y\":3.08855152,\"z\":0.47349906},\"rotation\":{\"x\":-0.004469647611655911,\"y\":0.4263783742390277,\"z\":-92.5850925015446},\"time\":1580384204573}}]'\n",
    "manual_json = '{\"name\":\"WLG Workbench 0° Inaccurate\",\"manual_measurement\":{\"position\":{\"x\":1.4046284,\"y\":3.09813833,\"z\":0.47348094},\"rotation\":{\"x\":0.011683026068856914,\"y\":0.38180536012831784,\"z\":-92.42976716962933},\"time\":1580383299427},\"goal_pose\":{\"position\":{\"x\":6.355043168011157,\"y\":0.8509618311608387,\"z\":0.10160000000000001},\"orientation\":{\"x\":0,\"y\":0,\"z\":-0.0056042505327029415,\"w\":0.9999842960646765}}}'\n",
    "\n",
    "data = json.loads(data_json)\n",
    "manual = json.loads(manual_json)\n",
    "test_measurements = data\n",
    "manual_measurement = manual['manual_measurement']"
   ]
  },
  {
   "cell_type": "code",
   "execution_count": 2,
   "metadata": {},
   "outputs": [],
   "source": [
    "x1 = []\n",
    "for measurement in test_measurements:\n",
    "    x1.append(measurement['test_measurement']['position']['x'])"
   ]
  },
  {
   "cell_type": "code",
   "execution_count": 3,
   "metadata": {},
   "outputs": [],
   "source": [
    "y1 = []\n",
    "for measurement in test_measurements:\n",
    "    y1.append(measurement['test_measurement']['position']['y'])"
   ]
  },
  {
   "cell_type": "code",
   "execution_count": 4,
   "metadata": {},
   "outputs": [],
   "source": [
    "rot1 = []\n",
    "for measurement in test_measurements:\n",
    "    rot1.append(measurement['test_measurement']['rotation']['z'])"
   ]
  },
  {
   "cell_type": "code",
   "execution_count": 5,
   "metadata": {},
   "outputs": [],
   "source": [
    "import math\n",
    "\n",
    "rot_errors1 = []\n",
    "for measurement in test_measurements:\n",
    "    reached_rot = measurement['test_measurement']['rotation']['z']\n",
    "    manual_rot = manual_measurement['rotation']['z']\n",
    "    rot_errors1.append(math.fabs(reached_rot)-math.fabs(manual_rot))"
   ]
  },
  {
   "cell_type": "code",
   "execution_count": 6,
   "metadata": {},
   "outputs": [],
   "source": [
    "gt_x1 = manual_measurement['position']['x']"
   ]
  },
  {
   "cell_type": "code",
   "execution_count": 7,
   "metadata": {},
   "outputs": [],
   "source": [
    "gt_y1 = manual_measurement['position']['y']"
   ]
  },
  {
   "cell_type": "code",
   "execution_count": 8,
   "metadata": {},
   "outputs": [],
   "source": [
    "assert len(x1) == len(y1)\n",
    "acc_x1 = [ math.pow(math.fabs(tx - gt_x1), 2) for tx in x1 ]\n",
    "acc_y1 = [ math.pow(math.fabs(ty - gt_y1), 2) for ty in y1 ]\n",
    "acc_sqrt1 = [ math.sqrt(acc_x1[i] + acc_y1[i]) for i in range(0, len(acc_x1))]\n",
    "acc_cm_rounded1 = [ round(acc*100,2) for acc in acc_sqrt1 ]"
   ]
  },
  {
   "cell_type": "code",
   "execution_count": 9,
   "metadata": {},
   "outputs": [],
   "source": [
    "import json\n",
    "\n",
    "data_json = '[{\"name\":\"KUKA Towards Depot 90° Inaccurate-1\",\"start_pose\":{\"position\":{\"y\":2.1136067572109885,\"x\":6.502827599395777,\"z\":0},\"orientation\":{\"y\":0,\"x\":0,\"z\":-0.7138059951769996,\"w\":0.7003434880466679}},\"test_measurement\":{\"position\":{\"x\":1.370545,\"y\":4.586907,\"z\":0.4751982},\"rotation\":{\"x\":0.4516045306801326,\"y\":0.07379022217260382,\"z\":-177.9055821414853},\"time\":1580412841711}}, {\"name\":\"KUKA Towards Depot 90° Inaccurate-2\",\"start_pose\":{\"position\":{\"y\":2.1136067572109885,\"x\":6.502827599395777,\"z\":0},\"orientation\":{\"y\":0,\"x\":0,\"z\":-0.7138059951769996,\"w\":0.7003434880466679}},\"test_measurement\":{\"position\":{\"x\":1.37054622,\"y\":4.586835,\"z\":0.4751425},\"rotation\":{\"x\":0.45145298585792293,\"y\":0.07452065220739851,\"z\":-177.90157965063165},\"time\":1580412857313}}, {\"name\":\"KUKA Towards Depot 90° Inaccurate-3\",\"start_pose\":{\"position\":{\"y\":-0.6090977652797724,\"x\":6.380240202940918,\"z\":0},\"orientation\":{\"y\":0,\"x\":0,\"z\":-0.6874601453721373,\"w\":0.7262221068825431}},\"test_measurement\":{\"position\":{\"x\":1.38778007,\"y\":4.65057755,\"z\":0.4746962},\"rotation\":{\"x\":0.3295683668407512,\"y\":0.10409659194306359,\"z\":-178.2491679774936},\"time\":1580412891318}}, {\"name\":\"KUKA Towards Depot 90° Inaccurate-4\",\"start_pose\":{\"position\":{\"y\":-0.6130428958395199,\"x\":6.371898730756544,\"z\":0},\"orientation\":{\"y\":0,\"x\":0,\"z\":-0.6881962650562085,\"w\":0.7255245693721784}},\"test_measurement\":{\"position\":{\"x\":1.37206125,\"y\":4.636044,\"z\":0.474951923},\"rotation\":{\"x\":0.3799292992623857,\"y\":0.11841729749739859,\"z\":-179.40013681491078},\"time\":1580412914315}}, {\"name\":\"KUKA Towards Depot 90° Inaccurate-5\",\"start_pose\":{\"position\":{\"y\":2.068533318301703,\"x\":6.311927166769802,\"z\":0},\"orientation\":{\"y\":0,\"x\":0,\"z\":-0.6924499248214202,\"w\":0.7214659393310328}},\"test_measurement\":{\"position\":{\"x\":1.37078869,\"y\":4.562968,\"z\":0.475136131},\"rotation\":{\"x\":0.4686092471142314,\"y\":0.04651561262514338,\"z\":-179.97674138464328},\"time\":1580412939821}}, {\"name\":\"KUKA Towards Depot 90° Inaccurate-6\",\"start_pose\":{\"position\":{\"y\":-0.5776946879637395,\"x\":6.385013341509157,\"z\":0},\"orientation\":{\"y\":0,\"x\":0,\"z\":-0.6977530132408081,\"w\":0.7163384203805997}},\"test_measurement\":{\"position\":{\"x\":1.39535034,\"y\":4.57352,\"z\":0.4749943},\"rotation\":{\"x\":0.4415274670138515,\"y\":0.016940735103956144,\"z\":177.43427176799773},\"time\":1580412958917}}, {\"name\":\"KUKA Towards Depot 90° Inaccurate-7\",\"start_pose\":{\"position\":{\"y\":-0.5770330525318106,\"x\":6.387803617340809,\"z\":0},\"orientation\":{\"y\":0,\"x\":0,\"z\":-0.7146385584053615,\"w\":0.6994939105098105}},\"test_measurement\":{\"position\":{\"x\":1.375206,\"y\":4.57245064,\"z\":0.475225627},\"rotation\":{\"x\":0.4667716594232335,\"y\":0.07291182916284977,\"z\":-178.8367008498981},\"time\":1580412981824}}, {\"name\":\"KUKA Towards Depot 90° Inaccurate-8\",\"start_pose\":{\"position\":{\"y\":2.038096225374097,\"x\":6.308521914866517,\"z\":0},\"orientation\":{\"y\":0,\"x\":0,\"z\":-0.6895385203995509,\"w\":0.7242490102756083}},\"test_measurement\":{\"position\":{\"x\":1.37381542,\"y\":4.56719732,\"z\":0.475108862},\"rotation\":{\"x\":0.4404710555287474,\"y\":0.0809840855653867,\"z\":-179.39889372048185},\"time\":1580413006420}}, {\"name\":\"KUKA Towards Depot 90° Inaccurate-9\",\"start_pose\":{\"position\":{\"y\":-0.5917687618831975,\"x\":6.380819083175927,\"z\":0},\"orientation\":{\"y\":0,\"x\":0,\"z\":-0.6906687844509293,\"w\":0.723171231580098}},\"test_measurement\":{\"position\":{\"x\":1.45216489,\"y\":4.57185555,\"z\":0.4750422},\"rotation\":{\"x\":0.3848212621728487,\"y\":0.03783537266992945,\"z\":177.3735104051413},\"time\":1580413030420}}, {\"name\":\"KUKA Towards Depot 90° Inaccurate-10\",\"start_pose\":{\"position\":{\"y\":-0.5734459560558313,\"x\":6.380962218486222,\"z\":0},\"orientation\":{\"y\":0,\"x\":0,\"z\":-0.712654164372953,\"w\":0.701515532259898}},\"test_measurement\":{\"position\":{\"x\":1.37270916,\"y\":4.564293,\"z\":0.4751396},\"rotation\":{\"x\":0.4569096133136756,\"y\":0.09096886830669991,\"z\":-178.43026361314733},\"time\":1580413055121}}, {\"name\":\"KUKA Towards Depot 90° Inaccurate-11\",\"start_pose\":{\"position\":{\"y\":-0.6023617022198701,\"x\":6.382453360261482,\"z\":0},\"orientation\":{\"y\":0,\"x\":0,\"z\":-0.6880874623514137,\"w\":0.7256277586716152}},\"test_measurement\":{\"position\":{\"x\":1.38555539,\"y\":4.533414,\"z\":0.475068659},\"rotation\":{\"x\":0.44011239055604234,\"y\":0.06433950819755403,\"z\":177.61409698846583},\"time\":1580413075426}}, {\"name\":\"KUKA Towards Depot 90° Inaccurate-12\",\"start_pose\":{\"position\":{\"y\":-0.5743122427884739,\"x\":6.386557296499354,\"z\":0},\"orientation\":{\"y\":0,\"x\":0,\"z\":-0.7139165396646795,\"w\":0.7002308008029996}},\"test_measurement\":{\"position\":{\"x\":1.38468957,\"y\":4.60811567,\"z\":0.4751149},\"rotation\":{\"x\":0.4172603118208987,\"y\":0.04065282903761302,\"z\":-178.75460197607455},\"time\":1580413099022}}, {\"name\":\"KUKA Towards Depot 90° Inaccurate-13\",\"start_pose\":{\"position\":{\"y\":-0.6293993728048455,\"x\":6.375103608149837,\"z\":0},\"orientation\":{\"y\":0,\"x\":0,\"z\":-0.6876435090157018,\"w\":0.7260484863344682}},\"test_measurement\":{\"position\":{\"x\":1.35309267,\"y\":4.53115,\"z\":0.474987715},\"rotation\":{\"x\":0.4530455405124466,\"y\":0.04646856169310698,\"z\":171.16597494024523},\"time\":1580413152725}}, {\"name\":\"KUKA Towards Depot 90° Inaccurate-14\",\"start_pose\":{\"position\":{\"y\":2.390800592817083,\"x\":6.786591455899556,\"z\":0},\"orientation\":{\"y\":0,\"x\":0,\"z\":-0.7516007564991576,\"w\":0.6596183008603492}},\"test_measurement\":{\"position\":{\"x\":1.452302,\"y\":4.51626635,\"z\":0.474642962},\"rotation\":{\"x\":0.3991207968087993,\"y\":0.038429635813306925,\"z\":176.35601712448448},\"time\":1580413184827}}, {\"name\":\"KUKA Towards Depot 90° Inaccurate-15\",\"start_pose\":{\"position\":{\"y\":-0.5858741873254506,\"x\":6.3791488616275736,\"z\":0},\"orientation\":{\"y\":0,\"x\":0,\"z\":-0.7170953533016753,\"w\":0.6969750743557086}},\"test_measurement\":{\"position\":{\"x\":1.38961291,\"y\":4.55242062,\"z\":0.4751162},\"rotation\":{\"x\":0.4535153294612966,\"y\":-0.0281567111364904,\"z\":174.71302878001626},\"time\":1580413206627}}, {\"name\":\"KUKA Towards Depot 90° Inaccurate-16\",\"start_pose\":{\"position\":{\"y\":-0.5725548176454608,\"x\":6.369264878073225,\"z\":0},\"orientation\":{\"y\":0,\"x\":0,\"z\":-0.731419045445321,\"w\":0.6819282806570318}},\"test_measurement\":{\"position\":{\"x\":1.36643207,\"y\":4.57985973,\"z\":0.4751194},\"rotation\":{\"x\":0.43893452976975894,\"y\":0.06598565048859321,\"z\":-178.44175199133127},\"time\":1580413227028}}, {\"name\":\"KUKA Towards Depot 90° Inaccurate-17\",\"start_pose\":{\"position\":{\"y\":-0.5965149703129192,\"x\":6.3824266533309695,\"z\":0},\"orientation\":{\"y\":0,\"x\":0,\"z\":-0.6896954903156448,\"w\":0.724099530892171}},\"test_measurement\":{\"position\":{\"x\":1.38619626,\"y\":4.557437,\"z\":0.475016475},\"rotation\":{\"x\":0.44859599243330067,\"y\":0.03908139527567415,\"z\":-179.2651312957763},\"time\":1580413248229}}, {\"name\":\"KUKA Towards Depot 90° Inaccurate-18\",\"start_pose\":{\"position\":{\"y\":-0.5740589392935211,\"x\":6.38163074306035,\"z\":0},\"orientation\":{\"y\":0,\"x\":0,\"z\":-0.6918431448604407,\"w\":0.7220478259157181}},\"test_measurement\":{\"position\":{\"x\":1.38401544,\"y\":4.58424854,\"z\":0.475082517},\"rotation\":{\"x\":0.47476116648315014,\"y\":0.0619589004572203,\"z\":-179.3959020976254},\"time\":1580413269534}}, {\"name\":\"KUKA Towards Depot 90° Inaccurate-19\",\"start_pose\":{\"position\":{\"y\":-0.5694097531454075,\"x\":6.382907173435257,\"z\":0},\"orientation\":{\"y\":0,\"x\":0,\"z\":-0.6880536611288044,\"w\":0.7256598096954581}},\"test_measurement\":{\"position\":{\"x\":1.38431382,\"y\":4.652796,\"z\":0.474756539},\"rotation\":{\"x\":0.35648571547294833,\"y\":0.028668331658953362,\"z\":178.03243241475076},\"time\":1580413290034}}, {\"name\":\"KUKA Towards Depot 90° Inaccurate-20\",\"start_pose\":{\"position\":{\"y\":-0.5987013046720211,\"x\":6.389229915978032,\"z\":0},\"orientation\":{\"y\":0,\"x\":0,\"z\":-0.7107039064254342,\"w\":0.7034912631949508}},\"test_measurement\":{\"position\":{\"x\":1.38399649,\"y\":4.551691,\"z\":0.475225449},\"rotation\":{\"x\":0.4872193248075476,\"y\":0.037727663788369524,\"z\":178.12175762871618},\"time\":1580413312535}}]'\n",
    "manual_json = '{\"name\":\"KUKA Towards Depot 90° Inaccurate\",\"manual_measurement\":{\"position\":{\"x\":1.36535227,\"y\":4.54655838,\"z\":0.4750264},\"rotation\":{\"x\":0.5014907382740248,\"y\":0.024619370172564683,\"z\":177.2699237561889},\"time\":1580412793410},\"goal_pose\":{\"position\":{\"x\":6.386450210094341,\"y\":-0.6145180677339017,\"z\":0.1016},\"orientation\":{\"x\":0,\"y\":0,\"z\":-0.7208374418088745,\"w\":0.6931041642397175}}}'\n",
    "\n",
    "data = json.loads(data_json)\n",
    "manual = json.loads(manual_json)\n",
    "test_measurements = data\n",
    "manual_measurement = manual['manual_measurement']"
   ]
  },
  {
   "cell_type": "code",
   "execution_count": 10,
   "metadata": {},
   "outputs": [],
   "source": [
    "x2 = []\n",
    "for measurement in test_measurements:\n",
    "    x2.append(measurement['test_measurement']['position']['x'])"
   ]
  },
  {
   "cell_type": "code",
   "execution_count": 11,
   "metadata": {},
   "outputs": [],
   "source": [
    "y2 = []\n",
    "for measurement in test_measurements:\n",
    "    y2.append(measurement['test_measurement']['position']['y'])"
   ]
  },
  {
   "cell_type": "code",
   "execution_count": 12,
   "metadata": {},
   "outputs": [],
   "source": [
    "rot2 = []\n",
    "for measurement in test_measurements:\n",
    "    rot2.append(measurement['test_measurement']['rotation']['z'])"
   ]
  },
  {
   "cell_type": "code",
   "execution_count": 13,
   "metadata": {},
   "outputs": [],
   "source": [
    "rot_errors2 = []\n",
    "for measurement in test_measurements:\n",
    "    reached_rot = measurement['test_measurement']['rotation']['z']\n",
    "    manual_rot = manual_measurement['rotation']['z']\n",
    "    rot_errors2.append(math.fabs(reached_rot)-math.fabs(manual_rot))"
   ]
  },
  {
   "cell_type": "code",
   "execution_count": 14,
   "metadata": {},
   "outputs": [],
   "source": [
    "gt_x2 = manual_measurement['position']['x']"
   ]
  },
  {
   "cell_type": "code",
   "execution_count": 15,
   "metadata": {},
   "outputs": [],
   "source": [
    "gt_y2 = manual_measurement['position']['y']"
   ]
  },
  {
   "cell_type": "code",
   "execution_count": 16,
   "metadata": {},
   "outputs": [],
   "source": [
    "import math\n",
    "\n",
    "assert len(x2) == len(y2)\n",
    "acc_x2 = [ math.pow(math.fabs(tx - gt_x2), 2) for tx in x2 ]\n",
    "acc_y2 = [ math.pow(math.fabs(ty - gt_y2), 2) for ty in y2 ]\n",
    "acc_sqrt2 = [ math.sqrt(acc_x2[i] + acc_y2[i]) for i in range(0, len(acc_x2))]\n",
    "acc_cm_rounded2 = [ round(acc*100,2) for acc in acc_sqrt2 ]"
   ]
  },
  {
   "cell_type": "markdown",
   "metadata": {},
   "source": [
    "### Position Error"
   ]
  },
  {
   "cell_type": "markdown",
   "metadata": {},
   "source": [
    "#### Aggregate"
   ]
  },
  {
   "cell_type": "code",
   "execution_count": 17,
   "metadata": {},
   "outputs": [],
   "source": [
    "acc_sqrt = acc_sqrt1 + acc_sqrt2"
   ]
  },
  {
   "cell_type": "markdown",
   "metadata": {},
   "source": [
    "#### Stats"
   ]
  },
  {
   "cell_type": "code",
   "execution_count": 18,
   "metadata": {},
   "outputs": [
    {
     "data": {
      "text/plain": [
       "0.0486033995885777"
      ]
     },
     "execution_count": 18,
     "metadata": {},
     "output_type": "execute_result"
    }
   ],
   "source": [
    "import statistics\n",
    "\n",
    "statistics.mean(acc_sqrt)"
   ]
  },
  {
   "cell_type": "code",
   "execution_count": 19,
   "metadata": {},
   "outputs": [
    {
     "data": {
      "text/plain": [
       "0.0406707527506527"
      ]
     },
     "execution_count": 19,
     "metadata": {},
     "output_type": "execute_result"
    }
   ],
   "source": [
    "statistics.median(acc_sqrt)"
   ]
  },
  {
   "cell_type": "code",
   "execution_count": 20,
   "metadata": {},
   "outputs": [
    {
     "data": {
      "text/plain": [
       "0.04"
      ]
     },
     "execution_count": 20,
     "metadata": {},
     "output_type": "execute_result"
    }
   ],
   "source": [
    "rounded_acc_sqrt = [ round(acc, 2) for acc in acc_sqrt ]\n",
    "statistics.mode(rounded_acc_sqrt)"
   ]
  },
  {
   "cell_type": "code",
   "execution_count": 21,
   "metadata": {},
   "outputs": [
    {
     "data": {
      "text/plain": [
       "(0.01728670850569312, 0.13692071257229269)"
      ]
     },
     "execution_count": 21,
     "metadata": {},
     "output_type": "execute_result"
    }
   ],
   "source": [
    "# Range of positional errors\n",
    "min(acc_sqrt), max(acc_sqrt)"
   ]
  },
  {
   "cell_type": "code",
   "execution_count": 22,
   "metadata": {},
   "outputs": [
    {
     "data": {
      "text/plain": [
       "0.11963400406659956"
      ]
     },
     "execution_count": 22,
     "metadata": {},
     "output_type": "execute_result"
    }
   ],
   "source": [
    "max(acc_sqrt) - min(acc_sqrt)"
   ]
  },
  {
   "cell_type": "code",
   "execution_count": 23,
   "metadata": {},
   "outputs": [
    {
     "data": {
      "text/plain": [
       "0.0006697424894106246"
      ]
     },
     "execution_count": 23,
     "metadata": {},
     "output_type": "execute_result"
    }
   ],
   "source": [
    "statistics.variance(acc_sqrt)"
   ]
  },
  {
   "cell_type": "code",
   "execution_count": 24,
   "metadata": {},
   "outputs": [
    {
     "data": {
      "text/plain": [
       "0.025879383482042703"
      ]
     },
     "execution_count": 24,
     "metadata": {},
     "output_type": "execute_result"
    }
   ],
   "source": [
    "statistics.stdev(acc_sqrt)"
   ]
  },
  {
   "cell_type": "code",
   "execution_count": 25,
   "metadata": {},
   "outputs": [
    {
     "data": {
      "image/png": "[encoded data removed]",
      "text/plain": [
       "<Figure size 720x720 with 1 Axes>"
      ]
     },
     "metadata": {
      "needs_background": "light"
     },
     "output_type": "display_data"
    }
   ],
   "source": [
    "import matplotlib.pyplot as plt\n",
    "\n",
    "fig, ax = plt.subplots(figsize=(10, 10))\n",
    "ax.hist(acc_sqrt, 14)\n",
    "plt.title('Histogram of Test Measurements for move_base')\n",
    "ax.grid(True)\n",
    "ax.set_xlabel('Positional Square Error [m]', fontsize=15)\n",
    "ax.set_ylabel('Frequency', fontsize=15)\n",
    "ax.set_ylim(bottom=0,top=32)\n",
    "ax.set_xlim(left=0,right=0.14)\n",
    "fig.savefig('Pose1-hist_pos_movebase.pdf')"
   ]
  },
  {
   "cell_type": "code",
   "execution_count": 26,
   "metadata": {},
   "outputs": [
    {
     "data": {
      "text/plain": [
       "60"
      ]
     },
     "execution_count": 26,
     "metadata": {},
     "output_type": "execute_result"
    }
   ],
   "source": [
    "len(acc_sqrt)"
   ]
  },
  {
   "cell_type": "code",
   "execution_count": 27,
   "metadata": {},
   "outputs": [
    {
     "data": {
      "text/plain": [
       "1.0"
      ]
     },
     "execution_count": 27,
     "metadata": {},
     "output_type": "execute_result"
    }
   ],
   "source": [
    "40/40"
   ]
  },
  {
   "cell_type": "code",
   "execution_count": 28,
   "metadata": {},
   "outputs": [
    {
     "data": {
      "text/plain": [
       "55"
      ]
     },
     "execution_count": 28,
     "metadata": {},
     "output_type": "execute_result"
    }
   ],
   "source": [
    "count = 0\n",
    "for acc in acc_sqrt:\n",
    "    if (acc > 0.02):\n",
    "        count+=1\n",
    "count"
   ]
  },
  {
   "cell_type": "code",
   "execution_count": 29,
   "metadata": {},
   "outputs": [
    {
     "data": {
      "text/plain": [
       "0.9166666666666666"
      ]
     },
     "execution_count": 29,
     "metadata": {},
     "output_type": "execute_result"
    }
   ],
   "source": [
    "count/len(acc_sqrt)"
   ]
  },
  {
   "cell_type": "markdown",
   "metadata": {},
   "source": [
    "$\\frac{55}{60}$ have > 2 [cm] inaccuracy $\\Rightarrow$ 91.7% (55/60=0.916666666)"
   ]
  },
  {
   "cell_type": "markdown",
   "metadata": {},
   "source": [
    "### Rotation Error"
   ]
  },
  {
   "cell_type": "code",
   "execution_count": 30,
   "metadata": {},
   "outputs": [
    {
     "data": {
      "text/plain": [
       "60"
      ]
     },
     "execution_count": 30,
     "metadata": {},
     "output_type": "execute_result"
    }
   ],
   "source": [
    "rot_errors = rot_errors1 + rot_errors2\n",
    "len(rot_errors)"
   ]
  },
  {
   "cell_type": "code",
   "execution_count": 31,
   "metadata": {},
   "outputs": [
    {
     "data": {
      "text/plain": [
       "2.0494598460013393"
      ]
     },
     "execution_count": 31,
     "metadata": {},
     "output_type": "execute_result"
    }
   ],
   "source": [
    "abs_rot_errors = [ math.fabs(rot_error) for rot_error in rot_errors ]\n",
    "statistics.mean(abs_rot_errors)"
   ]
  },
  {
   "cell_type": "code",
   "execution_count": 32,
   "metadata": {},
   "outputs": [
    {
     "data": {
      "text/plain": [
       "1.2711869969985798"
      ]
     },
     "execution_count": 32,
     "metadata": {},
     "output_type": "execute_result"
    }
   ],
   "source": [
    "statistics.median(abs_rot_errors)"
   ]
  },
  {
   "cell_type": "code",
   "execution_count": 33,
   "metadata": {},
   "outputs": [
    {
     "data": {
      "text/plain": [
       "2.13"
      ]
     },
     "execution_count": 33,
     "metadata": {},
     "output_type": "execute_result"
    }
   ],
   "source": [
    "rounded_rot_errors = [ round(acc, 2) for acc in abs_rot_errors ]\n",
    "statistics.mode(rounded_rot_errors)"
   ]
  },
  {
   "cell_type": "code",
   "execution_count": 34,
   "metadata": {},
   "outputs": [
    {
     "data": {
      "text/plain": [
       "(-6.296737735456418, 2.706817628454388)"
      ]
     },
     "execution_count": 34,
     "metadata": {},
     "output_type": "execute_result"
    }
   ],
   "source": [
    "# Range of positional errors\n",
    "min(rot_errors), max(rot_errors)"
   ]
  },
  {
   "cell_type": "code",
   "execution_count": 35,
   "metadata": {},
   "outputs": [
    {
     "data": {
      "text/plain": [
       "9.003555363910806"
      ]
     },
     "execution_count": 35,
     "metadata": {},
     "output_type": "execute_result"
    }
   ],
   "source": [
    "max(rot_errors) - min(rot_errors)"
   ]
  },
  {
   "cell_type": "code",
   "execution_count": 36,
   "metadata": {},
   "outputs": [
    {
     "data": {
      "text/plain": [
       "3.208689045768445"
      ]
     },
     "execution_count": 36,
     "metadata": {},
     "output_type": "execute_result"
    }
   ],
   "source": [
    "statistics.variance(abs_rot_errors)"
   ]
  },
  {
   "cell_type": "code",
   "execution_count": 37,
   "metadata": {},
   "outputs": [
    {
     "data": {
      "text/plain": [
       "1.7912813977062467"
      ]
     },
     "execution_count": 37,
     "metadata": {},
     "output_type": "execute_result"
    }
   ],
   "source": [
    "statistics.stdev(abs_rot_errors)"
   ]
  },
  {
   "cell_type": "code",
   "execution_count": 54,
   "metadata": {},
   "outputs": [
    {
     "data": {
      "image/png": "[encoded data removed]",
      "text/plain": [
       "<Figure size 720x720 with 1 Axes>"
      ]
     },
     "metadata": {
      "needs_background": "light"
     },
     "output_type": "display_data"
    }
   ],
   "source": [
    "import matplotlib.pyplot as plt\n",
    "\n",
    "fig, ax = plt.subplots(figsize=(10, 10))\n",
    "ax.hist(abs_rot_errors, 13)\n",
    "plt.title('Histogram of OptiTrack Measurements for move_base')\n",
    "ax.grid(True)\n",
    "ax.set_xlabel('Absolute Rotational Error [deg]', fontsize=15)\n",
    "ax.set_ylabel('Frequency', fontsize=15)\n",
    "ax.set_ylim(bottom=0,top=20)\n",
    "ax.set_xlim(left=0,right=6.5)\n",
    "fig.savefig('Pose1-hist_rot_movebase.pdf')"
   ]
  },
  {
   "cell_type": "code",
   "execution_count": 49,
   "metadata": {},
   "outputs": [
    {
     "data": {
      "text/plain": [
       "39"
      ]
     },
     "execution_count": 49,
     "metadata": {},
     "output_type": "execute_result"
    }
   ],
   "source": [
    "count = 0\n",
    "for rot_error in rot_errors:\n",
    "    if (math.fabs(rot_error) > 1):\n",
    "        count+=1\n",
    "count"
   ]
  },
  {
   "cell_type": "code",
   "execution_count": 50,
   "metadata": {},
   "outputs": [
    {
     "data": {
      "text/plain": [
       "0.65"
      ]
     },
     "execution_count": 50,
     "metadata": {},
     "output_type": "execute_result"
    }
   ],
   "source": [
    "count/len(rot_errors)"
   ]
  },
  {
   "cell_type": "markdown",
   "metadata": {},
   "source": [
    "$\\frac{39}{60}$ have > 1° [deg] rotation error $\\Rightarrow$ 65% (count/len(rot_errors)=0.65)"
   ]
  }
 ],
 "metadata": {
  "kernelspec": {
   "display_name": "Python 3",
   "language": "python",
   "name": "python3"
  },
  "language_info": {
   "codemirror_mode": {
    "name": "ipython",
    "version": 3
   },
   "file_extension": ".py",
   "mimetype": "text/x-python",
   "name": "python",
   "nbconvert_exporter": "python",
   "pygments_lexer": "ipython3",
   "version": "3.7.6"
  }
 },
 "nbformat": 4,
 "nbformat_minor": 4
}
