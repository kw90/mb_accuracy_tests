{
 "cells": [
  {
   "cell_type": "code",
   "execution_count": 1,
   "metadata": {
    "scrolled": true
   },
   "outputs": [],
   "source": [
    "import json\n",
    "\n",
    "data_json = '[{\"name\":\"KUKA Towards Depot 90° Inaccurate-1\",\"start_pose\":{\"position\":{\"y\":2.1136067572109885,\"x\":6.502827599395777,\"z\":0},\"orientation\":{\"y\":0,\"x\":0,\"z\":-0.7138059951769996,\"w\":0.7003434880466679}},\"test_measurement\":{\"position\":{\"x\":1.370545,\"y\":4.586907,\"z\":0.4751982},\"rotation\":{\"x\":0.4516045306801326,\"y\":0.07379022217260382,\"z\":-177.9055821414853},\"time\":1580412841711}}, {\"name\":\"KUKA Towards Depot 90° Inaccurate-2\",\"start_pose\":{\"position\":{\"y\":2.1136067572109885,\"x\":6.502827599395777,\"z\":0},\"orientation\":{\"y\":0,\"x\":0,\"z\":-0.7138059951769996,\"w\":0.7003434880466679}},\"test_measurement\":{\"position\":{\"x\":1.37054622,\"y\":4.586835,\"z\":0.4751425},\"rotation\":{\"x\":0.45145298585792293,\"y\":0.07452065220739851,\"z\":-177.90157965063165},\"time\":1580412857313}}, {\"name\":\"KUKA Towards Depot 90° Inaccurate-3\",\"start_pose\":{\"position\":{\"y\":-0.6090977652797724,\"x\":6.380240202940918,\"z\":0},\"orientation\":{\"y\":0,\"x\":0,\"z\":-0.6874601453721373,\"w\":0.7262221068825431}},\"test_measurement\":{\"position\":{\"x\":1.38778007,\"y\":4.65057755,\"z\":0.4746962},\"rotation\":{\"x\":0.3295683668407512,\"y\":0.10409659194306359,\"z\":-178.2491679774936},\"time\":1580412891318}}, {\"name\":\"KUKA Towards Depot 90° Inaccurate-4\",\"start_pose\":{\"position\":{\"y\":-0.6130428958395199,\"x\":6.371898730756544,\"z\":0},\"orientation\":{\"y\":0,\"x\":0,\"z\":-0.6881962650562085,\"w\":0.7255245693721784}},\"test_measurement\":{\"position\":{\"x\":1.37206125,\"y\":4.636044,\"z\":0.474951923},\"rotation\":{\"x\":0.3799292992623857,\"y\":0.11841729749739859,\"z\":-179.40013681491078},\"time\":1580412914315}}, {\"name\":\"KUKA Towards Depot 90° Inaccurate-5\",\"start_pose\":{\"position\":{\"y\":2.068533318301703,\"x\":6.311927166769802,\"z\":0},\"orientation\":{\"y\":0,\"x\":0,\"z\":-0.6924499248214202,\"w\":0.7214659393310328}},\"test_measurement\":{\"position\":{\"x\":1.37078869,\"y\":4.562968,\"z\":0.475136131},\"rotation\":{\"x\":0.4686092471142314,\"y\":0.04651561262514338,\"z\":-179.97674138464328},\"time\":1580412939821}}, {\"name\":\"KUKA Towards Depot 90° Inaccurate-6\",\"start_pose\":{\"position\":{\"y\":-0.5776946879637395,\"x\":6.385013341509157,\"z\":0},\"orientation\":{\"y\":0,\"x\":0,\"z\":-0.6977530132408081,\"w\":0.7163384203805997}},\"test_measurement\":{\"position\":{\"x\":1.39535034,\"y\":4.57352,\"z\":0.4749943},\"rotation\":{\"x\":0.4415274670138515,\"y\":0.016940735103956144,\"z\":177.43427176799773},\"time\":1580412958917}}, {\"name\":\"KUKA Towards Depot 90° Inaccurate-7\",\"start_pose\":{\"position\":{\"y\":-0.5770330525318106,\"x\":6.387803617340809,\"z\":0},\"orientation\":{\"y\":0,\"x\":0,\"z\":-0.7146385584053615,\"w\":0.6994939105098105}},\"test_measurement\":{\"position\":{\"x\":1.375206,\"y\":4.57245064,\"z\":0.475225627},\"rotation\":{\"x\":0.4667716594232335,\"y\":0.07291182916284977,\"z\":-178.8367008498981},\"time\":1580412981824}}, {\"name\":\"KUKA Towards Depot 90° Inaccurate-8\",\"start_pose\":{\"position\":{\"y\":2.038096225374097,\"x\":6.308521914866517,\"z\":0},\"orientation\":{\"y\":0,\"x\":0,\"z\":-0.6895385203995509,\"w\":0.7242490102756083}},\"test_measurement\":{\"position\":{\"x\":1.37381542,\"y\":4.56719732,\"z\":0.475108862},\"rotation\":{\"x\":0.4404710555287474,\"y\":0.0809840855653867,\"z\":-179.39889372048185},\"time\":1580413006420}}, {\"name\":\"KUKA Towards Depot 90° Inaccurate-9\",\"start_pose\":{\"position\":{\"y\":-0.5917687618831975,\"x\":6.380819083175927,\"z\":0},\"orientation\":{\"y\":0,\"x\":0,\"z\":-0.6906687844509293,\"w\":0.723171231580098}},\"test_measurement\":{\"position\":{\"x\":1.45216489,\"y\":4.57185555,\"z\":0.4750422},\"rotation\":{\"x\":0.3848212621728487,\"y\":0.03783537266992945,\"z\":177.3735104051413},\"time\":1580413030420}}, {\"name\":\"KUKA Towards Depot 90° Inaccurate-10\",\"start_pose\":{\"position\":{\"y\":-0.5734459560558313,\"x\":6.380962218486222,\"z\":0},\"orientation\":{\"y\":0,\"x\":0,\"z\":-0.712654164372953,\"w\":0.701515532259898}},\"test_measurement\":{\"position\":{\"x\":1.37270916,\"y\":4.564293,\"z\":0.4751396},\"rotation\":{\"x\":0.4569096133136756,\"y\":0.09096886830669991,\"z\":-178.43026361314733},\"time\":1580413055121}}, {\"name\":\"KUKA Towards Depot 90° Inaccurate-11\",\"start_pose\":{\"position\":{\"y\":-0.6023617022198701,\"x\":6.382453360261482,\"z\":0},\"orientation\":{\"y\":0,\"x\":0,\"z\":-0.6880874623514137,\"w\":0.7256277586716152}},\"test_measurement\":{\"position\":{\"x\":1.38555539,\"y\":4.533414,\"z\":0.475068659},\"rotation\":{\"x\":0.44011239055604234,\"y\":0.06433950819755403,\"z\":177.61409698846583},\"time\":1580413075426}}, {\"name\":\"KUKA Towards Depot 90° Inaccurate-12\",\"start_pose\":{\"position\":{\"y\":-0.5743122427884739,\"x\":6.386557296499354,\"z\":0},\"orientation\":{\"y\":0,\"x\":0,\"z\":-0.7139165396646795,\"w\":0.7002308008029996}},\"test_measurement\":{\"position\":{\"x\":1.38468957,\"y\":4.60811567,\"z\":0.4751149},\"rotation\":{\"x\":0.4172603118208987,\"y\":0.04065282903761302,\"z\":-178.75460197607455},\"time\":1580413099022}}, {\"name\":\"KUKA Towards Depot 90° Inaccurate-13\",\"start_pose\":{\"position\":{\"y\":-0.6293993728048455,\"x\":6.375103608149837,\"z\":0},\"orientation\":{\"y\":0,\"x\":0,\"z\":-0.6876435090157018,\"w\":0.7260484863344682}},\"test_measurement\":{\"position\":{\"x\":1.35309267,\"y\":4.53115,\"z\":0.474987715},\"rotation\":{\"x\":0.4530455405124466,\"y\":0.04646856169310698,\"z\":171.16597494024523},\"time\":1580413152725}}, {\"name\":\"KUKA Towards Depot 90° Inaccurate-14\",\"start_pose\":{\"position\":{\"y\":2.390800592817083,\"x\":6.786591455899556,\"z\":0},\"orientation\":{\"y\":0,\"x\":0,\"z\":-0.7516007564991576,\"w\":0.6596183008603492}},\"test_measurement\":{\"position\":{\"x\":1.452302,\"y\":4.51626635,\"z\":0.474642962},\"rotation\":{\"x\":0.3991207968087993,\"y\":0.038429635813306925,\"z\":176.35601712448448},\"time\":1580413184827}}, {\"name\":\"KUKA Towards Depot 90° Inaccurate-15\",\"start_pose\":{\"position\":{\"y\":-0.5858741873254506,\"x\":6.3791488616275736,\"z\":0},\"orientation\":{\"y\":0,\"x\":0,\"z\":-0.7170953533016753,\"w\":0.6969750743557086}},\"test_measurement\":{\"position\":{\"x\":1.38961291,\"y\":4.55242062,\"z\":0.4751162},\"rotation\":{\"x\":0.4535153294612966,\"y\":-0.0281567111364904,\"z\":174.71302878001626},\"time\":1580413206627}}, {\"name\":\"KUKA Towards Depot 90° Inaccurate-16\",\"start_pose\":{\"position\":{\"y\":-0.5725548176454608,\"x\":6.369264878073225,\"z\":0},\"orientation\":{\"y\":0,\"x\":0,\"z\":-0.731419045445321,\"w\":0.6819282806570318}},\"test_measurement\":{\"position\":{\"x\":1.36643207,\"y\":4.57985973,\"z\":0.4751194},\"rotation\":{\"x\":0.43893452976975894,\"y\":0.06598565048859321,\"z\":-178.44175199133127},\"time\":1580413227028}}, {\"name\":\"KUKA Towards Depot 90° Inaccurate-17\",\"start_pose\":{\"position\":{\"y\":-0.5965149703129192,\"x\":6.3824266533309695,\"z\":0},\"orientation\":{\"y\":0,\"x\":0,\"z\":-0.6896954903156448,\"w\":0.724099530892171}},\"test_measurement\":{\"position\":{\"x\":1.38619626,\"y\":4.557437,\"z\":0.475016475},\"rotation\":{\"x\":0.44859599243330067,\"y\":0.03908139527567415,\"z\":-179.2651312957763},\"time\":1580413248229}}, {\"name\":\"KUKA Towards Depot 90° Inaccurate-18\",\"start_pose\":{\"position\":{\"y\":-0.5740589392935211,\"x\":6.38163074306035,\"z\":0},\"orientation\":{\"y\":0,\"x\":0,\"z\":-0.6918431448604407,\"w\":0.7220478259157181}},\"test_measurement\":{\"position\":{\"x\":1.38401544,\"y\":4.58424854,\"z\":0.475082517},\"rotation\":{\"x\":0.47476116648315014,\"y\":0.0619589004572203,\"z\":-179.3959020976254},\"time\":1580413269534}}, {\"name\":\"KUKA Towards Depot 90° Inaccurate-19\",\"start_pose\":{\"position\":{\"y\":-0.5694097531454075,\"x\":6.382907173435257,\"z\":0},\"orientation\":{\"y\":0,\"x\":0,\"z\":-0.6880536611288044,\"w\":0.7256598096954581}},\"test_measurement\":{\"position\":{\"x\":1.38431382,\"y\":4.652796,\"z\":0.474756539},\"rotation\":{\"x\":0.35648571547294833,\"y\":0.028668331658953362,\"z\":178.03243241475076},\"time\":1580413290034}}, {\"name\":\"KUKA Towards Depot 90° Inaccurate-20\",\"start_pose\":{\"position\":{\"y\":-0.5987013046720211,\"x\":6.389229915978032,\"z\":0},\"orientation\":{\"y\":0,\"x\":0,\"z\":-0.7107039064254342,\"w\":0.7034912631949508}},\"test_measurement\":{\"position\":{\"x\":1.38399649,\"y\":4.551691,\"z\":0.475225449},\"rotation\":{\"x\":0.4872193248075476,\"y\":0.037727663788369524,\"z\":178.12175762871618},\"time\":1580413312535}}]'\n",
    "manual_json = '{\"name\":\"KUKA Towards Depot 90° Inaccurate\",\"manual_measurement\":{\"position\":{\"x\":1.36535227,\"y\":4.54655838,\"z\":0.4750264},\"rotation\":{\"x\":0.5014907382740248,\"y\":0.024619370172564683,\"z\":177.2699237561889},\"time\":1580412793410},\"goal_pose\":{\"position\":{\"x\":6.386450210094341,\"y\":-0.6145180677339017,\"z\":0.1016},\"orientation\":{\"x\":0,\"y\":0,\"z\":-0.7208374418088745,\"w\":0.6931041642397175}}}'\n",
    "\n",
    "data = json.loads(data_json)\n",
    "manual = json.loads(manual_json)\n",
    "test_measurements = data\n",
    "manual_measurement = manual['manual_measurement']"
   ]
  },
  {
   "cell_type": "code",
   "execution_count": 2,
   "metadata": {},
   "outputs": [],
   "source": [
    "x = []\n",
    "for measurement in test_measurements:\n",
    "    x.append(measurement['test_measurement']['position']['x'])"
   ]
  },
  {
   "cell_type": "code",
   "execution_count": 3,
   "metadata": {},
   "outputs": [],
   "source": [
    "y = []\n",
    "for measurement in test_measurements:\n",
    "    y.append(measurement['test_measurement']['position']['y'])"
   ]
  },
  {
   "cell_type": "code",
   "execution_count": 4,
   "metadata": {},
   "outputs": [],
   "source": [
    "rot = []\n",
    "for measurement in test_measurements:\n",
    "    rot.append(measurement['test_measurement']['rotation']['z'])"
   ]
  },
  {
   "cell_type": "code",
   "execution_count": 5,
   "metadata": {},
   "outputs": [],
   "source": [
    "rot_errors = []\n",
    "for measurement in test_measurements:\n",
    "    reached_rot = measurement['test_measurement']['rotation']['z']\n",
    "    manual_rot = manual_measurement['rotation']['z']\n",
    "    rot_errors.append(reached_rot - manual_rot)"
   ]
  },
  {
   "cell_type": "code",
   "execution_count": 6,
   "metadata": {},
   "outputs": [],
   "source": [
    "gt_x = manual_measurement['position']['x']"
   ]
  },
  {
   "cell_type": "code",
   "execution_count": 7,
   "metadata": {},
   "outputs": [],
   "source": [
    "gt_y = manual_measurement['position']['y']"
   ]
  },
  {
   "cell_type": "code",
   "execution_count": 8,
   "metadata": {},
   "outputs": [],
   "source": [
    "def mscatter(x,y,ax=None, m=None, **kw):\n",
    "    import matplotlib.markers as mmarkers\n",
    "    if not ax: ax=plt.gca()\n",
    "    sc = ax.scatter(x,y,**kw)\n",
    "    if (m is not None) and (len(m)==len(x)):\n",
    "        paths = []\n",
    "        for marker in m:\n",
    "            if isinstance(marker, mmarkers.MarkerStyle):\n",
    "                marker_obj = marker\n",
    "            else:\n",
    "                marker_obj = mmarkers.MarkerStyle(marker)\n",
    "            path = marker_obj.get_path().transformed(\n",
    "                        marker_obj.get_transform())\n",
    "            paths.append(path)\n",
    "        sc.set_paths(paths)\n",
    "    return sc"
   ]
  },
  {
   "cell_type": "code",
   "execution_count": 9,
   "metadata": {},
   "outputs": [],
   "source": [
    "import matplotlib.markers as mmarkers\n",
    "\n",
    "markers = []\n",
    "for rot in rot_errors:\n",
    "    t = mmarkers.MarkerStyle(marker='2')\n",
    "    t._transform = t.get_transform().rotate_deg(rot)\n",
    "    markers.append(t)"
   ]
  },
  {
   "cell_type": "code",
   "execution_count": 16,
   "metadata": {},
   "outputs": [
    {
     "name": "stderr",
     "output_type": "stream",
     "text": [
      "No handles with labels found to put in legend.\n"
     ]
    },
    {
     "data": {
      "image/png": "[encoded data removed]",
      "text/plain": [
       "<Figure size 720x720 with 1 Axes>"
      ]
     },
     "metadata": {
      "needs_background": "light"
     },
     "output_type": "display_data"
    }
   ],
   "source": [
    "import matplotlib.pyplot as plt\n",
    "\n",
    "fig, ax = plt.subplots(figsize=(10, 10))\n",
    "\n",
    "scatter = mscatter(x, y, c='#0000ff', s=200, m=markers)\n",
    "plt.title('Test Measurements Pos 2 for move_base with slam_toolbox, navfn gp, TEB lp')\n",
    "ax.plot(gt_x, gt_y, \"or\", markersize=30, marker='2')\n",
    "ax.legend()\n",
    "ax.grid(True)\n",
    "ax.set_xlabel('x', fontsize=15)\n",
    "ax.set_ylabel('y', fontsize=15)\n",
    "ax.set_ylim(bottom=4.44,top=4.66)\n",
    "ax.set_xlim(left=1.28,right=1.46)\n",
    "plt.show()\n",
    "fig.savefig('move_base-Pos2.pdf')"
   ]
  },
  {
   "cell_type": "code",
   "execution_count": null,
   "metadata": {},
   "outputs": [],
   "source": []
  }
 ],
 "metadata": {
  "kernelspec": {
   "display_name": "Python 3",
   "language": "python",
   "name": "python3"
  },
  "language_info": {
   "codemirror_mode": {
    "name": "ipython",
    "version": 3
   },
   "file_extension": ".py",
   "mimetype": "text/x-python",
   "name": "python",
   "nbconvert_exporter": "python",
   "pygments_lexer": "ipython3",
   "version": "3.7.6"
  }
 },
 "nbformat": 4,
 "nbformat_minor": 4
}
