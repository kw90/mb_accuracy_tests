{
 "cells": [
  {
   "cell_type": "code",
   "execution_count": 1,
   "metadata": {
    "scrolled": true
   },
   "outputs": [],
   "source": [
    "import json\n",
    "\n",
    "data_json = '[{\"name\":\"KUKA Towards Depot 90°-2\",\"start_pose\":{\"position\":{\"y\":-0.5904946954673478,\"x\":6.386504322191972,\"z\":0},\"orientation\":{\"y\":0,\"x\":0,\"z\":-0.7142179050751947,\"w\":0.6999234130031659}},\"test_measurement\":{\"position\":{\"x\":1.35981965,\"y\":4.550434,\"z\":0.475029916},\"rotation\":{\"x\":0.46835850446649785,\"y\":0.06052739552682744,\"z\":178.00806229979216},\"time\":1580409190461}}, {\"name\":\"KUKA Towards Depot 90°-3\",\"start_pose\":{\"position\":{\"y\":-0.014605581450524596,\"x\":6.412817545707348,\"z\":0},\"orientation\":{\"y\":0,\"x\":0,\"z\":-0.7131689960136938,\"w\":0.7009921419850725}},\"test_measurement\":{\"position\":{\"x\":1.37904572,\"y\":4.54490042,\"z\":0.475152075},\"rotation\":{\"x\":0.4606574661773085,\"y\":0.016858159184107747,\"z\":177.71090808976157},\"time\":1580409224666}}, {\"name\":\"KUKA Towards Depot 90°-4\",\"start_pose\":{\"position\":{\"y\":-0.5675867813066082,\"x\":6.387264148153445,\"z\":0},\"orientation\":{\"y\":0,\"x\":0,\"z\":-0.7172991275878251,\"w\":0.6967653561721802}},\"test_measurement\":{\"position\":{\"x\":1.37464106,\"y\":4.54426861,\"z\":0.47514835},\"rotation\":{\"x\":0.4483927409446399,\"y\":0.042143804638552586,\"z\":177.85611791151607},\"time\":1580409255360}}, {\"name\":\"KUKA Towards Depot 90°-5\",\"start_pose\":{\"position\":{\"y\":-0.5628726451445587,\"x\":6.389237113394578,\"z\":0},\"orientation\":{\"y\":0,\"x\":0,\"z\":-0.7235188128649677,\"w\":0.6903046627616446}},\"test_measurement\":{\"position\":{\"x\":1.36009407,\"y\":4.54369164,\"z\":0.47524184},\"rotation\":{\"x\":0.4328545941913898,\"y\":0.030626121341194214,\"z\":177.77322673574878},\"time\":1580409320162}}, {\"name\":\"KUKA Towards Depot 90°-6\",\"start_pose\":{\"position\":{\"y\":-0.4949599951853983,\"x\":6.344046021242352,\"z\":0},\"orientation\":{\"y\":0,\"x\":0,\"z\":-0.720949752449484,\"w\":0.6929873407523602}},\"test_measurement\":{\"position\":{\"x\":1.358537,\"y\":4.55432034,\"z\":0.475241572},\"rotation\":{\"x\":0.45580680456698297,\"y\":0.03097281680758517,\"z\":177.68588227664264},\"time\":1580409375565}}, {\"name\":\"KUKA Towards Depot 90°-7\",\"start_pose\":{\"position\":{\"y\":-0.5721592611531663,\"x\":6.389888607159058,\"z\":0},\"orientation\":{\"y\":0,\"x\":0,\"z\":-0.7212070151167328,\"w\":0.6927195979228628}},\"test_measurement\":{\"position\":{\"x\":1.36363125,\"y\":4.55193663,\"z\":0.475120157},\"rotation\":{\"x\":0.46653857921780684,\"y\":0.010874810084524103,\"z\":177.27906254929835},\"time\":1580409442367}}, {\"name\":\"KUKA Towards Depot 90°-8\",\"start_pose\":{\"position\":{\"y\":-0.5467275211949677,\"x\":6.370180508813469,\"z\":0},\"orientation\":{\"y\":0,\"x\":0,\"z\":-0.7167208581219194,\"w\":0.6973601734634546}},\"test_measurement\":{\"position\":{\"x\":1.356997,\"y\":4.552256,\"z\":0.475110769},\"rotation\":{\"x\":0.5049252028486305,\"y\":0.0560602717167606,\"z\":177.73019654397768},\"time\":1580409498170}}, {\"name\":\"KUKA Towards Depot 90°-9\",\"start_pose\":{\"position\":{\"y\":-0.5688259564111965,\"x\":6.38886799290817,\"z\":0},\"orientation\":{\"y\":0,\"x\":0,\"z\":-0.7213934235747815,\"w\":0.6925254713171608}},\"test_measurement\":{\"position\":{\"x\":1.35681117,\"y\":4.57303572,\"z\":0.4751747},\"rotation\":{\"x\":0.5004950247590839,\"y\":0.04680330766350372,\"z\":177.61633729051357},\"time\":1580409553974}}, {\"name\":\"KUKA Towards Depot 90°-10\",\"start_pose\":{\"position\":{\"y\":2.1547647551257687,\"x\":6.506023700571905,\"z\":0},\"orientation\":{\"y\":0,\"x\":0,\"z\":-0.7127854323796808,\"w\":0.7013821550248562}},\"test_measurement\":{\"position\":{\"x\":1.35769653,\"y\":4.553309,\"z\":0.4751895},\"rotation\":{\"x\":0.4832005055329356,\"y\":0.0726157097798393,\"z\":177.90727602839945},\"time\":1580409620179}}, {\"name\":\"KUKA Towards Depot 90°-11\",\"start_pose\":{\"position\":{\"y\":2.1547647551257687,\"x\":6.506023700571905,\"z\":0},\"orientation\":{\"y\":0,\"x\":0,\"z\":-0.7127854323796808,\"w\":0.7013821550248562}},\"test_measurement\":{\"position\":{\"x\":1.35764408,\"y\":4.553703,\"z\":0.475097328},\"rotation\":{\"x\":0.46237504531015516,\"y\":0.08793366297363583,\"z\":178.0367490943062},\"time\":1580409641675}}, {\"name\":\"KUKA Towards Depot 90°-12\",\"start_pose\":{\"position\":{\"y\":-0.6205154338998624,\"x\":6.333185857954587,\"z\":0},\"orientation\":{\"y\":0,\"x\":0,\"z\":-0.7210215939843798,\"w\":0.69291259261773}},\"test_measurement\":{\"position\":{\"x\":1.35842013,\"y\":4.55775261,\"z\":0.474987268},\"rotation\":{\"x\":0.45084259106170593,\"y\":0.043698799922747805,\"z\":177.94758780488087},\"time\":1580409700378}}, {\"name\":\"KUKA Towards Depot 90°-13\",\"start_pose\":{\"position\":{\"y\":-0.6205154338998624,\"x\":6.333185857954587,\"z\":0},\"orientation\":{\"y\":0,\"x\":0,\"z\":-0.7210215939843798,\"w\":0.69291259261773}},\"test_measurement\":{\"position\":{\"x\":1.35831249,\"y\":4.55734062,\"z\":0.474966556},\"rotation\":{\"x\":0.4482528287883604,\"y\":0.03737664609289442,\"z\":177.93476070961958},\"time\":1580409710578}}, {\"name\":\"KUKA Towards Depot 90°-14\",\"start_pose\":{\"position\":{\"y\":-0.5637301216358668,\"x\":6.3846671396947725,\"z\":0},\"orientation\":{\"y\":0,\"x\":0,\"z\":-0.7123329120925687,\"w\":0.7018417359702406}},\"test_measurement\":{\"position\":{\"x\":1.35588419,\"y\":4.551616,\"z\":0.4749562},\"rotation\":{\"x\":0.4801888189957831,\"y\":0.057864815699605894,\"z\":177.85199247725737},\"time\":1580409777381}}, {\"name\":\"KUKA Towards Depot 90°-15\",\"start_pose\":{\"position\":{\"y\":-0.6222804553527072,\"x\":6.346927276675518,\"z\":0},\"orientation\":{\"y\":0,\"x\":0,\"z\":-0.7201084903356946,\"w\":0.6938614862827068}},\"test_measurement\":{\"position\":{\"x\":1.36496365,\"y\":4.57771254,\"z\":0.4749693},\"rotation\":{\"x\":0.45748521683380783,\"y\":0.04997576378030936,\"z\":176.89993240884928},\"time\":1580409821984}}, {\"name\":\"KUKA Towards Depot 90°-16\",\"start_pose\":{\"position\":{\"y\":-0.5721149250150794,\"x\":6.37670944681134,\"z\":0},\"orientation\":{\"y\":0,\"x\":0,\"z\":-0.6972000603402925,\"w\":0.7168766113226827}},\"test_measurement\":{\"position\":{\"x\":1.35840452,\"y\":4.5448966,\"z\":0.475048244},\"rotation\":{\"x\":0.5205872535022928,\"y\":-0.037483254406863474,\"z\":176.95568041285492},\"time\":1580409884588}}, {\"name\":\"KUKA Towards Depot 90°-17\",\"start_pose\":{\"position\":{\"y\":1.8677258577392488,\"x\":6.474304341902348,\"z\":0},\"orientation\":{\"y\":0,\"x\":0,\"z\":-0.7131742684792033,\"w\":0.7009867778918183}},\"test_measurement\":{\"position\":{\"x\":1.35245192,\"y\":4.55712652,\"z\":0.475090772},\"rotation\":{\"x\":0.45153521493222754,\"y\":0.04661692487446303,\"z\":177.61861857369638},\"time\":1580409947093}}, {\"name\":\"KUKA Towards Depot 90°-18\",\"start_pose\":{\"position\":{\"y\":-0.5758358072883698,\"x\":6.388054025809992,\"z\":0},\"orientation\":{\"y\":0,\"x\":0,\"z\":-0.7151855693915007,\"w\":0.6989346187835848}},\"test_measurement\":{\"position\":{\"x\":1.36486971,\"y\":4.58125162,\"z\":0.47494483},\"rotation\":{\"x\":0.4598248767896545,\"y\":0.07028662194297157,\"z\":177.38315463224936},\"time\":1580409985690}}, {\"name\":\"KUKA Towards Depot 90°-19\",\"start_pose\":{\"position\":{\"y\":2.6789731953512357,\"x\":6.513438979265583,\"z\":0},\"orientation\":{\"y\":0,\"x\":0,\"z\":-0.7118666620844967,\"w\":0.7023146413201686}},\"test_measurement\":{\"position\":{\"x\":1.36958027,\"y\":4.546706,\"z\":0.4748954},\"rotation\":{\"x\":0.47721741990256306,\"y\":0.008173218471259482,\"z\":177.49865313111425},\"time\":1580410123616}}, {\"name\":\"KUKA Towards Depot 90°-20\",\"start_pose\":{\"position\":{\"y\":2.98496784455736,\"x\":6.499466227341441,\"z\":0},\"orientation\":{\"y\":0,\"x\":0,\"z\":-0.7091634072383601,\"w\":0.705044155946335}},\"test_measurement\":{\"position\":{\"x\":1.35701966,\"y\":4.55098629,\"z\":0.475085527},\"rotation\":{\"x\":0.4916317337330816,\"y\":0.03363304875727952,\"z\":177.4920824891327},\"time\":1580410232001}}, {\"name\":\"KUKA Towards Depot 90°-21\",\"start_pose\":{\"position\":{\"y\":-0.5719914813624838,\"x\":6.385066265256816,\"z\":0},\"orientation\":{\"y\":0,\"x\":0,\"z\":-0.684282121919015,\"w\":0.7292173733681956}},\"test_measurement\":{\"position\":{\"x\":1.35030782,\"y\":4.552039,\"z\":0.474936873},\"rotation\":{\"x\":0.4925264885143533,\"y\":0.03251878410248194,\"z\":176.78306787215035},\"time\":1580410853127}}, {\"name\":\"KUKA Towards Depot 90°-22\",\"start_pose\":{\"position\":{\"y\":-0.5926681018297302,\"x\":6.373007006192079,\"z\":0},\"orientation\":{\"y\":0,\"x\":0,\"z\":-0.683605090134248,\"w\":0.7298520951141722}},\"test_measurement\":{\"position\":{\"x\":1.34949613,\"y\":4.551984,\"z\":0.4750338},\"rotation\":{\"x\":0.464424582308835,\"y\":0.05187212178065976,\"z\":177.66000952006664},\"time\":1580411768466}}, {\"name\":\"KUKA Towards Depot 90°-23\",\"start_pose\":{\"position\":{\"y\":-0.5715236062628867,\"x\":6.381745081532661,\"z\":0},\"orientation\":{\"y\":0,\"x\":0,\"z\":-0.7145230223773834,\"w\":0.6996119284951403}},\"test_measurement\":{\"position\":{\"x\":1.36539435,\"y\":4.546565,\"z\":0.475120336},\"rotation\":{\"x\":0.5027816973880102,\"y\":0.020013514815088562,\"z\":177.26991009581053},\"time\":1580411871771}}]'\n",
    "manual_json = '{\"name\":\"KUKA Towards Depot 90°\",\"manual_measurement\":{\"position\":{\"x\":1.35702121,\"y\":4.55015,\"z\":0.474951327},\"rotation\":{\"x\":0.502097131006275,\"y\":0.08358308593638894,\"z\":178.86385768203806},\"time\":1580409112053},\"goal_pose\":{\"position\":{\"x\":6.387662663950927,\"y\":-0.6078421716668322,\"z\":0.1016},\"orientation\":{\"x\":0,\"y\":0,\"z\":-0.7177715670049098,\"w\":0.696278663754187}}}'\n",
    "\n",
    "data = json.loads(data_json)\n",
    "manual = json.loads(manual_json)\n",
    "test_measurements = data\n",
    "manual_measurement = manual['manual_measurement']"
   ]
  },
  {
   "cell_type": "code",
   "execution_count": 2,
   "metadata": {},
   "outputs": [],
   "source": [
    "x = []\n",
    "for measurement in test_measurements:\n",
    "    x.append(measurement['test_measurement']['position']['x'])"
   ]
  },
  {
   "cell_type": "code",
   "execution_count": 3,
   "metadata": {},
   "outputs": [],
   "source": [
    "y = []\n",
    "for measurement in test_measurements:\n",
    "    y.append(measurement['test_measurement']['position']['y'])"
   ]
  },
  {
   "cell_type": "code",
   "execution_count": 4,
   "metadata": {},
   "outputs": [],
   "source": [
    "rot = []\n",
    "for measurement in test_measurements:\n",
    "    rot.append(measurement['test_measurement']['rotation']['z'])"
   ]
  },
  {
   "cell_type": "code",
   "execution_count": 5,
   "metadata": {},
   "outputs": [],
   "source": [
    "import math\n",
    "\n",
    "rot_errors = []\n",
    "for measurement in test_measurements:\n",
    "    reached_rot = measurement['test_measurement']['rotation']['z']\n",
    "    manual_rot = manual_measurement['rotation']['z']\n",
    "    rot_errors.append(math.fabs(reached_rot)-math.fabs(manual_rot))"
   ]
  },
  {
   "cell_type": "code",
   "execution_count": 6,
   "metadata": {},
   "outputs": [],
   "source": [
    "gt_x = manual_measurement['position']['x']"
   ]
  },
  {
   "cell_type": "code",
   "execution_count": 7,
   "metadata": {},
   "outputs": [],
   "source": [
    "gt_y = manual_measurement['position']['y']"
   ]
  },
  {
   "cell_type": "code",
   "execution_count": 8,
   "metadata": {},
   "outputs": [],
   "source": [
    "xx = [xx-gt_x for xx in x ]\n",
    "yy = [yy-gt_y for yy in y ]"
   ]
  },
  {
   "cell_type": "code",
   "execution_count": 9,
   "metadata": {},
   "outputs": [],
   "source": [
    "def mscatter(x,y,ax=None, m=None, **kw):\n",
    "    import matplotlib.markers as mmarkers\n",
    "    if not ax: ax=plt.gca()\n",
    "    sc = ax.scatter(x,y,**kw)\n",
    "    if (m is not None) and (len(m)==len(x)):\n",
    "        paths = []\n",
    "        for marker in m:\n",
    "            if isinstance(marker, mmarkers.MarkerStyle):\n",
    "                marker_obj = marker\n",
    "            else:\n",
    "                marker_obj = mmarkers.MarkerStyle(marker)\n",
    "            path = marker_obj.get_path().transformed(\n",
    "                        marker_obj.get_transform())\n",
    "            paths.append(path)\n",
    "        sc.set_paths(paths)\n",
    "    return sc"
   ]
  },
  {
   "cell_type": "code",
   "execution_count": 10,
   "metadata": {},
   "outputs": [],
   "source": [
    "import matplotlib.markers as mmarkers\n",
    "\n",
    "markers = []\n",
    "for rot in rot_errors:\n",
    "    t = mmarkers.MarkerStyle(marker='2')\n",
    "    t._transform = t.get_transform().rotate_deg(rot)\n",
    "    markers.append(t)"
   ]
  },
  {
   "cell_type": "code",
   "execution_count": 11,
   "metadata": {},
   "outputs": [
    {
     "name": "stderr",
     "output_type": "stream",
     "text": [
      "No handles with labels found to put in legend.\n"
     ]
    },
    {
     "data": {
      "image/png": "[encoded data removed]",
      "text/plain": [
       "<Figure size 720x720 with 1 Axes>"
      ]
     },
     "metadata": {
      "needs_background": "light"
     },
     "output_type": "display_data"
    }
   ],
   "source": [
    "import matplotlib.pyplot as plt\n",
    "\n",
    "fig, ax = plt.subplots(figsize=(10, 10))\n",
    "\n",
    "scatter = mscatter(xx, yy, c='#0000ff', s=200, m=markers)\n",
    "plt.title('OptiTrack Measurements at Pose 2 for Odometry-Based Method [m]')\n",
    "ax.plot(0, 0, \"or\", markersize=30, marker='2')\n",
    "ax.legend()\n",
    "ax.grid(True)\n",
    "ax.set_xlabel('x', fontsize=15)\n",
    "ax.set_ylabel('y', fontsize=15)\n",
    "ax.set_ylim(bottom=-0.04,top=0.1)\n",
    "ax.set_xlim(left=-0.15,right=0.15)\n",
    "plt.show()\n",
    "fig.savefig('Pose2-scatter_odom.pdf')"
   ]
  },
  {
   "cell_type": "code",
   "execution_count": 12,
   "metadata": {},
   "outputs": [],
   "source": [
    "def mscatter(axes,x,y,ax=None, m=None, **kw):\n",
    "    import matplotlib.markers as mmarkers\n",
    "    if not axes: axes=plt.gca()\n",
    "    sc = axes.scatter(x,y,**kw)\n",
    "    if (m is not None) and (len(m)==len(x)):\n",
    "        paths = []\n",
    "        for marker in m:\n",
    "            if isinstance(marker, mmarkers.MarkerStyle):\n",
    "                marker_obj = marker\n",
    "            else:\n",
    "                marker_obj = mmarkers.MarkerStyle(marker)\n",
    "            path = marker_obj.get_path().transformed(\n",
    "                        marker_obj.get_transform())\n",
    "            paths.append(path)\n",
    "        sc.set_paths(paths)\n",
    "    return sc"
   ]
  },
  {
   "cell_type": "code",
   "execution_count": 13,
   "metadata": {},
   "outputs": [],
   "source": [
    "import matplotlib.markers as mmarkers\n",
    "\n",
    "markers = []\n",
    "for rot in rot_errors:\n",
    "    t = mmarkers.MarkerStyle(marker='2')\n",
    "    t._transform = t.get_transform().rotate_deg(rot)\n",
    "    markers.append(t)"
   ]
  },
  {
   "cell_type": "code",
   "execution_count": 14,
   "metadata": {},
   "outputs": [
    {
     "data": {
      "image/png": "[encoded data removed]",
      "text/plain": [
       "<Figure size 576x576 with 3 Axes>"
      ]
     },
     "metadata": {
      "needs_background": "light"
     },
     "output_type": "display_data"
    }
   ],
   "source": [
    "import numpy as np\n",
    "\n",
    "fig = plt.figure(figsize=(8, 8))\n",
    "left, width = 0.1, 0.65\n",
    "bottom, height = 0.1, 0.65\n",
    "spacing = 0.005\n",
    "\n",
    "rect_scatter = [left, bottom, width, height]\n",
    "rect_histx = [left, bottom + height + spacing, width, 0.2]\n",
    "rect_histy = [left + width + spacing, bottom, 0.2, height]\n",
    "\n",
    "ax_scatter = plt.axes(rect_scatter)\n",
    "ax_scatter.tick_params(direction='in', top=True, right=True)\n",
    "ax_histx = plt.axes(rect_histx)\n",
    "ax_histx.tick_params(direction='in', labelbottom=False)\n",
    "ax_histy = plt.axes(rect_histy)\n",
    "ax_histy.tick_params(direction='in', labelleft=False)\n",
    "\n",
    "scatter = mscatter(ax_scatter, xx, yy, c='#0000ff', s=200, m=markers)\n",
    "ax_scatter.plot(0, 0, \"or\", markersize=30, marker='2')\n",
    "ax_scatter.grid(True)\n",
    "ax_scatter.set_xlabel('x', fontsize=15)\n",
    "ax_scatter.set_ylabel('y', fontsize=15)\n",
    "ax_scatter.set_ylim(bottom=-0.04,top=0.095)\n",
    "ax_scatter.set_xlim(left=-0.14,right=0.14)\n",
    "\n",
    "binwidthx = 0.01\n",
    "binwidthy = 0.005\n",
    "bins_x = np.arange(-0.14, 0.14 + binwidthx, binwidthx)\n",
    "bins_y = np.arange(-0.04, 0.095 + binwidthy, binwidthy)\n",
    "ax_histx.hist(xx, bins=bins_x)\n",
    "ax_histy.hist(yy, bins=bins_y, orientation='horizontal')\n",
    "ax_histx.set_xlim(ax_scatter.get_xlim())\n",
    "ax_histx.set_ylim(bottom=0,top=15)\n",
    "ax_histy.set_ylim(ax_scatter.get_ylim())\n",
    "ax_histy.set_xlim(left=0, right=20)\n",
    "fig.savefig('Pose2-scatterHist_odom.pdf')"
   ]
  }
 ],
 "metadata": {
  "kernelspec": {
   "display_name": "Python 3",
   "language": "python",
   "name": "python3"
  },
  "language_info": {
   "codemirror_mode": {
    "name": "ipython",
    "version": 3
   },
   "file_extension": ".py",
   "mimetype": "text/x-python",
   "name": "python",
   "nbconvert_exporter": "python",
   "pygments_lexer": "ipython3",
   "version": "3.7.6"
  }
 },
 "nbformat": 4,
 "nbformat_minor": 4
}
